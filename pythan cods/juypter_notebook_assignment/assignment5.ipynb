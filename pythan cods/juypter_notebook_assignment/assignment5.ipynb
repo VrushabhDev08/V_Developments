{
 "cells": [
  {
   "cell_type": "markdown",
   "metadata": {},
   "source": [
    "Assignment no.5\n",
    "Display Name And PRN"
   ]
  },
  {
   "cell_type": "code",
   "execution_count": 1,
   "metadata": {},
   "outputs": [
    {
     "name": "stdout",
     "output_type": "stream",
     "text": [
      "20UET009\n",
      "Vrushabh Sanjay Bastwade\n"
     ]
    }
   ],
   "source": [
    "print(\"20UET009\")\n",
    "print(\"Vrushabh Sanjay Bastwade\")"
   ]
  },
  {
   "cell_type": "markdown",
   "metadata": {},
   "source": [
    "Write a Python program to filter a list of integers using Lambda.\n",
    "Original list of integers: [1, 2, 3, 4, 5, 6, 7, 8, 9, 10] Even numbers from the said list: [2, 4, 6, 8, 10] Odd numbers from the said list: [1, 3, 5, 7, 9]"
   ]
  },
  {
   "cell_type": "code",
   "execution_count": 4,
   "metadata": {},
   "outputs": [
    {
     "name": "stdout",
     "output_type": "stream",
     "text": [
      "even: [2, 4, 6, 8, 10]\n",
      "odd: [1, 3, 5, 7, 9]\n"
     ]
    }
   ],
   "source": [
    "org = [1, 2, 3, 4, 5, 6, 7, 8, 9, 10]\n",
    "E = (list(filter(lambda i: (i%2==0),org)))\n",
    "O = (list(filter(lambda i: (i%2==1),org)))    \n",
    "print(\"even:\",E)\n",
    "print(\"odd:\",O)"
   ]
  },
  {
   "cell_type": "markdown",
   "metadata": {},
   "source": [
    "Write a Python program to square and cube every number in a given list of integers using Lambda.\n",
    "Original list of integers: [1, 2, 3, 4, 5, 6, 7, 8, 9, 10] Square every number of the said list: [1, 4, 9, 16, 25, 36, 49, 64, 81, 100] Cube every number of the said list: [1, 8, 27, 64, 125, 216, 343, 512, 729, 1000]"
   ]
  },
  {
   "cell_type": "code",
   "execution_count": 3,
   "metadata": {},
   "outputs": [
    {
     "name": "stdout",
     "output_type": "stream",
     "text": [
      "Square every number of the said list: [1, 4, 9, 16, 25, 36, 49, 64, 81, 100]\n",
      "Cube every number of the said list: [1, 8, 27, 64, 125, 216, 343, 512, 729, 1000]\n"
     ]
    }
   ],
   "source": [
    "lst = [1, 2, 3, 4, 5, 6, 7, 8, 9, 10]\n",
    "square = list(map(lambda x : x*x,lst))\n",
    "print(\"Square every number of the said list:\",square)\n",
    "cube = list(map(lambda x : x*x*x,lst))\n",
    "print(\"Cube every number of the said list:\",cube)"
   ]
  },
  {
   "cell_type": "markdown",
   "metadata": {},
   "source": [
    "Write a Python program to rearrange positive and negative numbers in a given array using Lambda.\n",
    "Original arrays: [-1, 2, -3, 5, 7, 8, 9, -10] Rearrange positive and negative numbers of the said array: [2, 5, 7, 8, 9, -10, -3, -1]"
   ]
  },
  {
   "cell_type": "code",
   "execution_count": 1,
   "metadata": {},
   "outputs": [
    {
     "name": "stdout",
     "output_type": "stream",
     "text": [
      "[-10, -3, -1, 2, 5, 7, 8, 9]\n"
     ]
    }
   ],
   "source": [
    "x =  [-1, 2, -3, 5, 7, 8, 9, -10]\n",
    "#y = lambda x:\n",
    "y = x.sort(key=lambda x:x)\n",
    "print(x)"
   ]
  },
  {
   "cell_type": "markdown",
   "metadata": {},
   "source": [
    "Write a Python program to find numbers divisible by nineteen or thirteen from a list of numbers using Lambda. Go to the editor\n",
    "Orginal list: [19, 65, 57, 39, 152, 639, 121, 44, 90, 190] Numbers of the above list divisible by nineteen or thirteen: [19, 65, 57, 39, 152, 190]"
   ]
  },
  {
   "cell_type": "code",
   "execution_count": 20,
   "metadata": {},
   "outputs": [
    {
     "name": "stdout",
     "output_type": "stream",
     "text": [
      "[19, 65, 57, 39, 152, 190]\n"
     ]
    }
   ],
   "source": [
    "x = [19, 65, 57, 39, 152, 639, 121, 44, 90, 190] \n",
    "z = list()\n",
    "for i in x :\n",
    "    if i % 19 ==0 or i % 13 ==0 :\n",
    "        z.append(i)\n",
    "y =lambda z:z\n",
    "print(y(z))  "
   ]
  }
 ],
 "metadata": {
  "kernelspec": {
   "display_name": "Python 3.10.5 64-bit",
   "language": "python",
   "name": "python3"
  },
  "language_info": {
   "codemirror_mode": {
    "name": "ipython",
    "version": 3
   },
   "file_extension": ".py",
   "mimetype": "text/x-python",
   "name": "python",
   "nbconvert_exporter": "python",
   "pygments_lexer": "ipython3",
   "version": "3.10.5"
  },
  "orig_nbformat": 4,
  "vscode": {
   "interpreter": {
    "hash": "26de051ba29f2982a8de78e945f0abaf191376122a1563185a90213a26c5da77"
   }
  }
 },
 "nbformat": 4,
 "nbformat_minor": 2
}
