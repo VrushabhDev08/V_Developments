{
 "cells": [
  {
   "cell_type": "markdown",
   "metadata": {},
   "source": [
    "Assignment No.1\n",
    "Display the PRN NO. and Name"
   ]
  },
  {
   "cell_type": "code",
   "execution_count": 13,
   "metadata": {},
   "outputs": [
    {
     "name": "stdout",
     "output_type": "stream",
     "text": [
      "20UET009\n",
      "Vrushabh Sanjay Bastwade\n"
     ]
    }
   ],
   "source": [
    "print(\"20UET033\")\n",
    "print(\"Suraj Sanjeev Hanje\")"
   ]
  },
  {
   "cell_type": "markdown",
   "metadata": {},
   "source": [
    "Program No : 1 Write a Python program which accepts the radius of a circle from the user and compute the area.\n",
    "Sample Input : r = 1.1 Sample Output : Area = 3.8013271108436504"
   ]
  },
  {
   "cell_type": "code",
   "execution_count": 2,
   "metadata": {},
   "outputs": [
    {
     "name": "stdout",
     "output_type": "stream",
     "text": [
      "The area of the circle is:4.521599999999999\n"
     ]
    }
   ],
   "source": [
    "x = float(input(\"Enter the radius of the circle:\"))\n",
    "print(f\"The area of the circle is:{3.14*x*x}\")"
   ]
  },
  {
   "cell_type": "markdown",
   "metadata": {},
   "source": [
    "Program No : 2 Write a Python program which accepts a sequence of comma-separated numbers from user and generate a list and a tuple with those numbers.\n",
    "Sample data : 3, 5, 7, 23 Output : List : ['3',' 5', ' 7',' 23'] Tuple : ('3', ' 5', ' 7', ' 23')"
   ]
  },
  {
   "cell_type": "code",
   "execution_count": 3,
   "metadata": {},
   "outputs": [
    {
     "name": "stdout",
     "output_type": "stream",
     "text": [
      "[3, 5, 7, 23]\n",
      "(3, 5, 7, 23)\n"
     ]
    }
   ],
   "source": [
    "x = 3, 5, 7, 23\n",
    "print(list(x))\n",
    "print(tuple(x))"
   ]
  },
  {
   "cell_type": "markdown",
   "metadata": {},
   "source": [
    "Program No : 3 Write a python program to accept an integer number from User and check whether it is prime number or not a prime number"
   ]
  },
  {
   "cell_type": "code",
   "execution_count": 4,
   "metadata": {},
   "outputs": [
    {
     "name": "stdout",
     "output_type": "stream",
     "text": [
      "13 is a prime number\n"
     ]
    }
   ],
   "source": [
    "num = int(input(\"Enter a number: \"))\n",
    "flag = 0\n",
    "if num > 1:\n",
    "    for i in range(2, num):\n",
    "        if (num % i) == 0:\n",
    "            flag = 1\n",
    "            break\n",
    "if flag:\n",
    "    print(num, \"is not a prime number\")\n",
    "else:\n",
    "    print(num, \"is a prime number\")"
   ]
  },
  {
   "cell_type": "markdown",
   "metadata": {},
   "source": [
    "4 Write a python program to accept an integer number from User and print the factorial of the number"
   ]
  },
  {
   "cell_type": "code",
   "execution_count": 5,
   "metadata": {},
   "outputs": [
    {
     "name": "stdout",
     "output_type": "stream",
     "text": [
      "The factorial of given no. is : 120\n"
     ]
    }
   ],
   "source": [
    "import math\n",
    "x = int(input(\"Enter the no.\"))\n",
    "print(\"The factorial of given no. is :\",math.factorial(x))"
   ]
  },
  {
   "cell_type": "markdown",
   "metadata": {},
   "source": [
    "Program No : 5 Write a python program to accept a year from user. Check the year is leap year or not"
   ]
  },
  {
   "cell_type": "code",
   "execution_count": 9,
   "metadata": {},
   "outputs": [
    {
     "name": "stdout",
     "output_type": "stream",
     "text": [
      "The given 2030 is not  a leap year\n"
     ]
    }
   ],
   "source": [
    "x = int(input(\"Enter the year\"))\n",
    "print(f\"The given {x} is a leap year\")if x%4==0 else print(f\"The given {x} is not  a leap year\")"
   ]
  },
  {
   "cell_type": "markdown",
   "metadata": {},
   "source": [
    "Program No : 6 Write a python program to print the fabonacci series upto nth element"
   ]
  },
  {
   "cell_type": "code",
   "execution_count": 11,
   "metadata": {},
   "outputs": [
    {
     "name": "stdout",
     "output_type": "stream",
     "text": [
      "Fibonacci sequence:\n",
      "0\n",
      "1\n",
      "1\n",
      "2\n",
      "3\n",
      "5\n",
      "8\n",
      "13\n",
      "21\n"
     ]
    }
   ],
   "source": [
    "n = int(input(\"Enter number \"))\n",
    "n1 = 0\n",
    "n2 = 1\n",
    "count = 0\n",
    "if n == 1:\n",
    "   print(\"Fibonacci sequence upto\",n,\":\")\n",
    "   print(n1)\n",
    "else:\n",
    "   print(\"Fibonacci sequence:\")\n",
    "   while count < n:\n",
    "       print(n1)\n",
    "       nth = n1 + n2\n",
    "       n1 = n2\n",
    "       n2 = nth\n",
    "       count += 1"
   ]
  }
 ],
 "metadata": {
  "kernelspec": {
   "display_name": "Python 3.10.5 64-bit",
   "language": "python",
   "name": "python3"
  },
  "language_info": {
   "codemirror_mode": {
    "name": "ipython",
    "version": 3
   },
   "file_extension": ".py",
   "mimetype": "text/x-python",
   "name": "python",
   "nbconvert_exporter": "python",
   "pygments_lexer": "ipython3",
   "version": "3.10.5"
  },
  "orig_nbformat": 4,
  "vscode": {
   "interpreter": {
    "hash": "26de051ba29f2982a8de78e945f0abaf191376122a1563185a90213a26c5da77"
   }
  }
 },
 "nbformat": 4,
 "nbformat_minor": 2
}
