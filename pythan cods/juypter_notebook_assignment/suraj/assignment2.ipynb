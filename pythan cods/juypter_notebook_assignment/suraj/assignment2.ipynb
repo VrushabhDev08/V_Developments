{
 "cells": [
  {
   "cell_type": "code",
   "execution_count": 1,
   "metadata": {},
   "outputs": [
    {
     "name": "stdout",
     "output_type": "stream",
     "text": [
      "20UET009\n",
      "Suraj Sanjeev Hanje\n"
     ]
    }
   ],
   "source": [
    "#Assignment no.2\n",
    "print(\"20UET033\")\n",
    "print(\"Suraj Sanjeev Hanje\")"
   ]
  },
  {
   "cell_type": "markdown",
   "metadata": {},
   "source": [
    "Print the length of the string"
   ]
  },
  {
   "cell_type": "code",
   "execution_count": 1,
   "metadata": {},
   "outputs": [
    {
     "name": "stdout",
     "output_type": "stream",
     "text": [
      "38\n"
     ]
    }
   ],
   "source": [
    "x = \"DKTE Textile and Engineering Institute\"\n",
    "print(\"The length is:\"len(x))"
   ]
  },
  {
   "cell_type": "markdown",
   "metadata": {},
   "source": [
    "Print the total number of capital letters present in the string"
   ]
  },
  {
   "cell_type": "code",
   "execution_count": 2,
   "metadata": {},
   "outputs": [
    {
     "name": "stdout",
     "output_type": "stream",
     "text": [
      "7\n"
     ]
    }
   ],
   "source": [
    "x = \"DKTE Textile and Engineering Institute\"\n",
    "count = 0\n",
    "for i in x :\n",
    "    if i == i.upper() and i != \" \" :\n",
    "        count += 1\n",
    "print(\"Total numbers\",count)\n"
   ]
  },
  {
   "cell_type": "markdown",
   "metadata": {},
   "source": [
    "Print the given string in reverse order"
   ]
  },
  {
   "cell_type": "code",
   "execution_count": 2,
   "metadata": {},
   "outputs": [
    {
     "name": "stdout",
     "output_type": "stream",
     "text": [
      "etutitsnI gnireenignE dna elitxeT ETKD\n"
     ]
    }
   ],
   "source": [
    "x = \"DKTE Textile and Engineering Institute\"\n",
    "print(x[::-1])"
   ]
  },
  {
   "cell_type": "markdown",
   "metadata": {},
   "source": [
    "Convert the given string into list of words and print on the output console"
   ]
  },
  {
   "cell_type": "code",
   "execution_count": 2,
   "metadata": {},
   "outputs": [
    {
     "name": "stdout",
     "output_type": "stream",
     "text": [
      "['Python', 'is', 'a', 'Programming', 'Language']\n"
     ]
    }
   ],
   "source": [
    "str1 = \"Python is a Programming Language\"\n",
    "l = str1.split(\" \")\n",
    "print(l)"
   ]
  },
  {
   "cell_type": "markdown",
   "metadata": {},
   "source": [
    "Accpet the substring from user and check if it is present in given string"
   ]
  },
  {
   "cell_type": "code",
   "execution_count": 3,
   "metadata": {},
   "outputs": [
    {
     "name": "stdout",
     "output_type": "stream",
     "text": [
      "dkte textile and engineering institute\n",
      "dkte present in the string\n"
     ]
    }
   ],
   "source": [
    "x = \"dkte textile and engineering institute\"\n",
    "print(x)\n",
    "i = input(\"Enter the substring:\")\n",
    "print(f\"{i} present in the string\")if i in x else print(f\"{i} not present in the string\")"
   ]
  },
  {
   "cell_type": "markdown",
   "metadata": {},
   "source": [
    " Write a Python program to extract numbers from a given string. Go to the editor\n",
    "Sample Output:\n",
    "Original string: red 12 black 45 green\n",
    "Extract numbers from the said string: [12,45]"
   ]
  },
  {
   "cell_type": "code",
   "execution_count": 3,
   "metadata": {},
   "outputs": [
    {
     "name": "stdout",
     "output_type": "stream",
     "text": [
      "['66', '45']\n"
     ]
    }
   ],
   "source": [
    "str1 =\" dhoni 66 virat 45 rohit\"\n",
    "l = str1.split(\" \")\n",
    "l1 = list()\n",
    "for i in l:\n",
    "    if i.isnumeric():\n",
    "        l1.append(i)\n",
    "print(l1)    "
   ]
  }
 ],
 "metadata": {
  "kernelspec": {
   "display_name": "Python 3.10.5 64-bit",
   "language": "python",
   "name": "python3"
  },
  "language_info": {
   "codemirror_mode": {
    "name": "ipython",
    "version": 3
   },
   "file_extension": ".py",
   "mimetype": "text/x-python",
   "name": "python",
   "nbconvert_exporter": "python",
   "pygments_lexer": "ipython3",
   "version": "3.10.5"
  },
  "orig_nbformat": 4,
  "vscode": {
   "interpreter": {
    "hash": "26de051ba29f2982a8de78e945f0abaf191376122a1563185a90213a26c5da77"
   }
  }
 },
 "nbformat": 4,
 "nbformat_minor": 2
}
