{
 "cells": [
  {
   "cell_type": "markdown",
   "id": "5bfdfcbd",
   "metadata": {},
   "source": [
    "Assignment No : 1\n",
    "Display the PRN NO. and Name\n"
   ]
  },
  {
   "cell_type": "code",
   "execution_count": 1,
   "id": "5c9ecd61",
   "metadata": {},
   "outputs": [
    {
     "name": "stdout",
     "output_type": "stream",
     "text": [
      "PRN NO. : 20UET020 Name : Pratik Sanjay Dhulubulu\n"
     ]
    }
   ],
   "source": [
    "print(\"PRN NO. : 20UET020\",\"Name : Pratik Sanjay Dhulubulu\")"
   ]
  },
  {
   "cell_type": "code",
   "execution_count": null,
   "id": "626d0724",
   "metadata": {},
   "outputs": [],
   "source": []
  }
 ],
 "metadata": {
  "kernelspec": {
   "display_name": "Python 3 (ipykernel)",
   "language": "python",
   "name": "python3"
  },
  "language_info": {
   "codemirror_mode": {
    "name": "ipython",
    "version": 3
   },
   "file_extension": ".py",
   "mimetype": "text/x-python",
   "name": "python",
   "nbconvert_exporter": "python",
   "pygments_lexer": "ipython3",
   "version": "3.10.5"
  }
 },
 "nbformat": 4,
 "nbformat_minor": 5
}
